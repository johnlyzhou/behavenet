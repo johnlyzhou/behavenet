{
 "cells": [
  {
   "cell_type": "code",
   "execution_count": 1,
   "id": "bfb3d0b5",
   "metadata": {},
   "outputs": [],
   "source": [
    "from plot_search import make_latent_traversal_movie_wrapper"
   ]
  },
  {
   "cell_type": "code",
   "execution_count": 4,
   "id": "9f42bac9",
   "metadata": {},
   "outputs": [
    {
     "name": "stdout",
     "output_type": "stream",
     "text": [
      "/Users/johnzhou/.behavenet/save/dipoppa/free-mouse/MD0ST5/session-3/ps-vae/conv/25_latents/free-mouse/version_0/dipoppa_free-mouse_MD0ST5_session-3_latents.pkl\n",
      "Loading model defined in /Users/johnzhou/.behavenet/save/dipoppa/free-mouse/MD0ST5/session-3/ps-vae/conv/25_latents/free-mouse/version_0/meta_tags.pkl\n",
      "using data from following sessions:\n",
      "/Users/johnzhou/.behavenet/save/dipoppa/free-mouse/MD0ST5/session-3\n",
      "constructing data generator...done\n",
      "Generator contains 1 SingleSessionDataset objects:\n",
      "dipoppa_free-mouse_MD0ST5_session-3\n",
      "    signals: ['labels']\n",
      "    transforms: OrderedDict([('labels', None)])\n",
      "    paths: OrderedDict([('labels', '/Users/johnzhou/.behavenet/data/dipoppa/free-mouse/MD0ST5/session-3/data.hdf5')])\n",
      "\n",
      "saving video to ~/hello.mp4...done\n"
     ]
    }
   ],
   "source": [
    "lab = 'dipoppa'\n",
    "expt = 'pupil'\n",
    "animal = 'MD0ST5'\n",
    "session = 'session-3'\n",
    "label_names = [str(num) for num in range(22)]\n",
    "n_labels = len(label_names)\n",
    "expt_name = \"free-mouse\"\n",
    "n_ae_latents = 25\n",
    "alpha = 1000\n",
    "beta = 5\n",
    "gamma = 1000\n",
    "n_clusters=5\n",
    "train_frac=1.0\n",
    "make_latent_traversal_movie_wrapper(lab, expt, animal, session, label_names, expt_name, n_ae_latents, alpha, beta,\n",
    "                                    gamma, n_clusters=n_clusters, save_file='idk.mp4')"
   ]
  },
  {
   "cell_type": "code",
   "execution_count": null,
   "id": "089b5171",
   "metadata": {},
   "outputs": [],
   "source": []
  }
 ],
 "metadata": {
  "kernelspec": {
   "display_name": "Python 3",
   "language": "python",
   "name": "python3"
  },
  "language_info": {
   "codemirror_mode": {
    "name": "ipython",
    "version": 3
   },
   "file_extension": ".py",
   "mimetype": "text/x-python",
   "name": "python",
   "nbconvert_exporter": "python",
   "pygments_lexer": "ipython3",
   "version": "3.7.2"
  }
 },
 "nbformat": 4,
 "nbformat_minor": 5
}
